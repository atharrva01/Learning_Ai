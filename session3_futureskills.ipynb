{
  "nbformat": 4,
  "nbformat_minor": 0,
  "metadata": {
    "colab": {
      "provenance": [],
      "authorship_tag": "ABX9TyNpJxwcydKi7/fqh3+NF9Cc",
      "include_colab_link": true
    },
    "kernelspec": {
      "name": "python3",
      "display_name": "Python 3"
    },
    "language_info": {
      "name": "python"
    }
  },
  "cells": [
    {
      "cell_type": "markdown",
      "metadata": {
        "id": "view-in-github",
        "colab_type": "text"
      },
      "source": [
        "<a href=\"https://colab.research.google.com/github/atharrva01/Learning_Ai/blob/main/session3_futureskills.ipynb\" target=\"_parent\"><img src=\"https://colab.research.google.com/assets/colab-badge.svg\" alt=\"Open In Colab\"/></a>"
      ]
    },
    {
      "cell_type": "code",
      "execution_count": 15,
      "metadata": {
        "colab": {
          "base_uri": "https://localhost:8080/"
        },
        "id": "_-UN0evwTH4F",
        "outputId": "bdfde217-b697-4177-de69-12b50cf89d85"
      },
      "outputs": [
        {
          "output_type": "stream",
          "name": "stdout",
          "text": [
            "['Karjat', 'Mumbai', 'Dubai', 'Bangalore']\n",
            "4\n",
            "['Karjat', 'Mumbai', 'Nashik', 'Bangalore']\n",
            "['Karjat', 'Mumbai', 'Nashik']\n",
            "['Karjat', 'Mumbai', 'Nashik', 'Atharva']\n",
            "[]\n",
            "['Atharva', 'Nashik', 'Mumbai', 'Karjat']\n",
            "['Nashik', 'Mumbai', 'Karjat']\n",
            "['Kalyan', 'Nashik', 'Mumbai', 'Karjat']\n"
          ]
        }
      ],
      "source": [
        "#starting with data types today\n",
        "\n",
        "cities = [\"Karjat\",\"Mumbai\" , \"Dubai\", \"Bangalore\"]\n",
        "print(cities)\n",
        "print(len(cities))\n",
        "\n",
        "cities[2] = \"Nashik\"\n",
        "print(cities)    #lists are mutable i.e they can be changed\n",
        "\n",
        "cities.pop()\n",
        "print(cities)  #removes the last item from the lists\n",
        "\n",
        "cities.append(\"Atharva\")\n",
        "print(cities)\n",
        "\n",
        "print(cities[1:0]) #lists slicing\n",
        "\n",
        "# print(cities[::-1])\n",
        "\n",
        "cities.reverse()\n",
        "print(cities)\n",
        "\n",
        "cities.remove(\"Atharva\")\n",
        "print(cities)\n",
        "\n",
        "cities.insert(0,\"Kalyan\")\n",
        "print(cities)\n",
        "\n",
        "\n"
      ]
    },
    {
      "cell_type": "code",
      "source": [
        "numbers = [22,76,12,4,789]\n",
        "numbers.sort(reverse = True)\n",
        "print(numbers)\n"
      ],
      "metadata": {
        "colab": {
          "base_uri": "https://localhost:8080/"
        },
        "id": "B2DcNUl2Fwon",
        "outputId": "f15f72d9-514e-4e34-bcc6-85014627a86d"
      },
      "execution_count": 2,
      "outputs": [
        {
          "output_type": "stream",
          "name": "stdout",
          "text": [
            "[789, 76, 22, 12, 4]\n"
          ]
        }
      ]
    },
    {
      "cell_type": "code",
      "source": [
        "numbers = [22,76,12,4,789,44,22,6,222,2,2,22,22]\n",
        "counted_22 = numbers.count(22)\n",
        "print(counted_22)\n",
        "\n",
        "print(numbers.index(22))"
      ],
      "metadata": {
        "colab": {
          "base_uri": "https://localhost:8080/"
        },
        "id": "Y8-NzckMH1f9",
        "outputId": "9a3962b2-4def-4af0-ba5a-b4074a4e106c"
      },
      "execution_count": 4,
      "outputs": [
        {
          "output_type": "stream",
          "name": "stdout",
          "text": [
            "4\n",
            "0\n"
          ]
        }
      ]
    }
  ]
}