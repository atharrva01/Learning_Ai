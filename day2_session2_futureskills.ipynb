{
  "nbformat": 4,
  "nbformat_minor": 0,
  "metadata": {
    "colab": {
      "provenance": [],
      "authorship_tag": "ABX9TyNUClJx8JmS1sCCMs75f1G9",
      "include_colab_link": true
    },
    "kernelspec": {
      "name": "python3",
      "display_name": "Python 3"
    },
    "language_info": {
      "name": "python"
    }
  },
  "cells": [
    {
      "cell_type": "markdown",
      "metadata": {
        "id": "view-in-github",
        "colab_type": "text"
      },
      "source": [
        "<a href=\"https://colab.research.google.com/github/atharrva01/Learning_Ai/blob/main/day2_session2_futureskills.ipynb\" target=\"_parent\"><img src=\"https://colab.research.google.com/assets/colab-badge.svg\" alt=\"Open In Colab\"/></a>"
      ]
    },
    {
      "cell_type": "code",
      "execution_count": 1,
      "metadata": {
        "colab": {
          "base_uri": "https://localhost:8080/"
        },
        "id": "8A3z_im1Ga0T",
        "outputId": "4dd4e7ff-cac8-4b1f-b1b2-6d33dd107eaf"
      },
      "outputs": [
        {
          "output_type": "stream",
          "name": "stdout",
          "text": [
            "8\n"
          ]
        }
      ],
      "source": [
        "a = 2\n",
        "b = 3\n",
        "\n",
        "print(a**b)"
      ]
    },
    {
      "cell_type": "markdown",
      "source": [
        "comparison operator"
      ],
      "metadata": {
        "id": "VQEtgluvGqan"
      }
    },
    {
      "cell_type": "code",
      "source": [
        "a == b"
      ],
      "metadata": {
        "colab": {
          "base_uri": "https://localhost:8080/"
        },
        "id": "oMTxABgjGqAe",
        "outputId": "e8aeb916-c8e6-4e6b-ef32-568b42191c72"
      },
      "execution_count": 2,
      "outputs": [
        {
          "output_type": "execute_result",
          "data": {
            "text/plain": [
              "False"
            ]
          },
          "metadata": {},
          "execution_count": 2
        }
      ]
    },
    {
      "cell_type": "code",
      "source": [
        "a = 2\n",
        "b = 3\n",
        "c = 0\n",
        "\n",
        "print(c and a)\n",
        "print(a and c)\n",
        "\n",
        "print(b and a)"
      ],
      "metadata": {
        "colab": {
          "base_uri": "https://localhost:8080/"
        },
        "id": "ohqegkDPNmCD",
        "outputId": "e53c95eb-2075-406c-97fc-afee135f9bcc"
      },
      "execution_count": 6,
      "outputs": [
        {
          "output_type": "stream",
          "name": "stdout",
          "text": [
            "0\n",
            "0\n",
            "2\n"
          ]
        }
      ]
    },
    {
      "cell_type": "markdown",
      "source": [
        "so basically session 2 was all about the operators few , like assignment , arithmatic , comparisons and logical like AND , OR\n",
        "\n",
        "for now i had done the practise of it previously so now i am moving ahed with session3 of the course and like i also tried some of the operators in this session, thats it!\n",
        "\n",
        "also the completed notes of this session are on my handbook!"
      ],
      "metadata": {
        "id": "ptdgJ4WrR553"
      }
    }
  ]
}