{
  "nbformat": 4,
  "nbformat_minor": 0,
  "metadata": {
    "colab": {
      "provenance": []
    },
    "kernelspec": {
      "name": "python3",
      "display_name": "Python 3"
    },
    "language_info": {
      "name": "python"
    }
  },
  "cells": [
    {
      "cell_type": "markdown",
      "source": [
        "Learnt about variables thier properties and all."
      ],
      "metadata": {
        "id": "N-gm4Rl-CBKl"
      }
    },
    {
      "cell_type": "code",
      "source": [
        "car = 20\n",
        "print(car)"
      ],
      "metadata": {
        "colab": {
          "base_uri": "https://localhost:8080/"
        },
        "id": "nqHUObTeCKnL",
        "outputId": "ef2eaf83-ae2b-4235-a4af-f66b2aba25f1"
      },
      "execution_count": 1,
      "outputs": [
        {
          "output_type": "stream",
          "name": "stdout",
          "text": [
            "20\n"
          ]
        }
      ]
    },
    {
      "cell_type": "markdown",
      "source": [
        "Variables are case sensative.\n",
        "we can't start variables by any numbers or symbols."
      ],
      "metadata": {
        "id": "Fwu-5LDOCYg0"
      }
    },
    {
      "cell_type": "code",
      "source": [
        "Car = 10\n",
        "print(Car)"
      ],
      "metadata": {
        "colab": {
          "base_uri": "https://localhost:8080/"
        },
        "id": "E1p3-sIcCSCw",
        "outputId": "a8086a09-1b64-4623-9f0d-6e0fbd1da762"
      },
      "execution_count": 2,
      "outputs": [
        {
          "output_type": "stream",
          "name": "stdout",
          "text": [
            "10\n"
          ]
        }
      ]
    }
  ]
}