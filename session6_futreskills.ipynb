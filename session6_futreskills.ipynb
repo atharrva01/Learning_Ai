{
  "nbformat": 4,
  "nbformat_minor": 0,
  "metadata": {
    "colab": {
      "provenance": [],
      "authorship_tag": "ABX9TyP62Kd50KmRQaUkU7+Zs80z",
      "include_colab_link": true
    },
    "kernelspec": {
      "name": "python3",
      "display_name": "Python 3"
    },
    "language_info": {
      "name": "python"
    }
  },
  "cells": [
    {
      "cell_type": "markdown",
      "metadata": {
        "id": "view-in-github",
        "colab_type": "text"
      },
      "source": [
        "<a href=\"https://colab.research.google.com/github/atharrva01/Learning_Ai/blob/main/session6_futreskills.ipynb\" target=\"_parent\"><img src=\"https://colab.research.google.com/assets/colab-badge.svg\" alt=\"Open In Colab\"/></a>"
      ]
    },
    {
      "cell_type": "code",
      "execution_count": null,
      "metadata": {
        "colab": {
          "base_uri": "https://localhost:8080/",
          "height": 36
        },
        "id": "69A5nqNOYAvr",
        "outputId": "f8f6271b-68ca-4b68-e0be-8bafcb087e70"
      },
      "outputs": [
        {
          "output_type": "execute_result",
          "data": {
            "text/plain": [
              "'Atharva'"
            ],
            "application/vnd.google.colaboratory.intrinsic+json": {
              "type": "string"
            }
          },
          "metadata": {},
          "execution_count": 9
        }
      ],
      "source": [
        "name = \"Atharva\"\n",
        "name.center(100)\n",
        "\n",
        "name.strip()\n",
        "\n",
        "#lstrips , rstrip for left and right respectively."
      ]
    },
    {
      "cell_type": "code",
      "source": [
        "myInfo = \"My name is Atharva, i am from karjat.\"\n",
        "halfLength = int(len(myInfo)/2)\n",
        "print(halfLength)\n",
        "countA = myInfo.count(\"a\",0,halfLength)\n",
        "print(f'The occurence of \"a\" in \"{myInfo}\" is: ', countA)"
      ],
      "metadata": {
        "colab": {
          "base_uri": "https://localhost:8080/"
        },
        "id": "yxfpSn2ed887",
        "outputId": "2a2b11bb-803b-4c48-cb5c-e4d7d86e8aba"
      },
      "execution_count": null,
      "outputs": [
        {
          "output_type": "stream",
          "name": "stdout",
          "text": [
            "18\n",
            "The occurence of \"a\" in \"My name is Atharva, i am from karjat.\" is:  3\n"
          ]
        }
      ]
    },
    {
      "cell_type": "code",
      "source": [
        "myInfosal = \"Ninetyk90k\"\n",
        "# name = \"Atharva8\"\n",
        "age = \"22\"\n",
        "type(myInfosal)\n",
        "\n",
        "print(myInfosal.isalnum())\n",
        "# print(name.isalpha())\n",
        "print(age.isnumeric())\n",
        "\n",
        "name = input(\"Enter your name: \")\n",
        "\n",
        "\n",
        "sentance = \"I am not a good guy, I alwas try to win, sometimes I win but most of the time I loose,what yu think who am I?\"\n",
        "replaceIwithwas = sentance.replace(\"I\" , \"was\")\n",
        "print(sentance)\n",
        "\n",
        "print(replaceIwithwas)"
      ],
      "metadata": {
        "colab": {
          "base_uri": "https://localhost:8080/"
        },
        "id": "ForuseYxfOFE",
        "outputId": "b35962e5-b429-4a7a-e82c-e7b6ba941340"
      },
      "execution_count": 1,
      "outputs": [
        {
          "output_type": "stream",
          "name": "stdout",
          "text": [
            "True\n",
            "True\n",
            "Enter your name: Atharva\n",
            "I am not a good guy, I alwas try to win, sometimes I win but most of the time I loose,what yu think who am I?\n",
            "was am not a good guy, was alwas try to win, sometimes was win but most of the time was loose,what yu think who am was?\n"
          ]
        }
      ]
    },
    {
      "cell_type": "code",
      "source": [
        "stri = \"I have no idea what to do now!\"\n",
        "\"ok\".join(stri)"
      ],
      "metadata": {
        "colab": {
          "base_uri": "https://localhost:8080/",
          "height": 35
        },
        "id": "XCG8pWpVygMQ",
        "outputId": "c0e4bc12-b5b1-456a-9cf7-61c15b12a9be"
      },
      "execution_count": 5,
      "outputs": [
        {
          "output_type": "execute_result",
          "data": {
            "text/plain": [
              "'Iok okhokaokvokeok oknokook okiokdokeokaok okwokhokaoktok oktokook okdokook oknokookwok!'"
            ],
            "application/vnd.google.colaboratory.intrinsic+json": {
              "type": "string"
            }
          },
          "metadata": {},
          "execution_count": 5
        }
      ]
    },
    {
      "cell_type": "code",
      "source": [
        "ok = \"I have no choise yaar\"\n",
        "ok.split()\n",
        "'   '.join(ok)"
      ],
      "metadata": {
        "colab": {
          "base_uri": "https://localhost:8080/",
          "height": 35
        },
        "id": "6_1Znx-PzOg8",
        "outputId": "40647c7d-f710-4412-8f75-ec5ad184b58b"
      },
      "execution_count": 13,
      "outputs": [
        {
          "output_type": "execute_result",
          "data": {
            "text/plain": [
              "'I       h   a   v   e       n   o       c   h   o   i   s   e       y   a   a   r'"
            ],
            "application/vnd.google.colaboratory.intrinsic+json": {
              "type": "string"
            }
          },
          "metadata": {},
          "execution_count": 13
        }
      ]
    },
    {
      "cell_type": "code",
      "source": [
        "x = \"Atharva's marks in exam are:                             98.9\"\n",
        "pos = x.find(\":\")\n",
        "print(pos)\n",
        "\n",
        "marks = float(x[pos + 1: ])\n",
        "print(marks)"
      ],
      "metadata": {
        "colab": {
          "base_uri": "https://localhost:8080/"
        },
        "id": "WxP0DpMGzSh6",
        "outputId": "00898003-dad2-465d-93ad-1fc774075319"
      },
      "execution_count": 17,
      "outputs": [
        {
          "output_type": "stream",
          "name": "stdout",
          "text": [
            "27\n",
            "98.9\n"
          ]
        }
      ]
    },
    {
      "cell_type": "code",
      "source": [
        "from re import template\n",
        "#swapping of element\n",
        "\n",
        "a = 2\n",
        "b = 4\n",
        "\n",
        "# (a,b) = (b,a)\n",
        "\n",
        "temp = a\n",
        "a = b\n",
        "b = temp\n",
        "\n",
        "\n",
        "print(a)\n",
        "print(b)\n",
        "\n"
      ],
      "metadata": {
        "colab": {
          "base_uri": "https://localhost:8080/"
        },
        "id": "Lsj1Pfd01OKV",
        "outputId": "130e7b38-3656-433e-a2ae-c353567f7b83"
      },
      "execution_count": 20,
      "outputs": [
        {
          "output_type": "stream",
          "name": "stdout",
          "text": [
            "4\n",
            "2\n"
          ]
        }
      ]
    },
    {
      "cell_type": "code",
      "source": [
        "cir = list(input(\"Enter the values: \"))\n",
        "print(cir)\n",
        "# print(len(cir))\n",
        "\n",
        "for i in range(1,len(cir),1):\n",
        "  print(cir[i:] + cir[:i] )  #shift location"
      ],
      "metadata": {
        "colab": {
          "base_uri": "https://localhost:8080/"
        },
        "id": "fx84M44u60Ss",
        "outputId": "bcdccbcd-3d9e-4ac1-e39a-1f00aae88015"
      },
      "execution_count": 34,
      "outputs": [
        {
          "output_type": "stream",
          "name": "stdout",
          "text": [
            "Enter the values: 12345678\n",
            "['1', '2', '3', '4', '5', '6', '7', '8']\n",
            "['2', '3', '4', '5', '6', '7', '8', '1']\n",
            "['3', '4', '5', '6', '7', '8', '1', '2']\n",
            "['4', '5', '6', '7', '8', '1', '2', '3']\n",
            "['5', '6', '7', '8', '1', '2', '3', '4']\n",
            "['6', '7', '8', '1', '2', '3', '4', '5']\n",
            "['7', '8', '1', '2', '3', '4', '5', '6']\n",
            "['8', '1', '2', '3', '4', '5', '6', '7']\n"
          ]
        }
      ]
    },
    {
      "cell_type": "code",
      "source": [
        "#distance bewteen any 2 points\n",
        "import math\n",
        "\n",
        "x1 = int(input(\"Enter the 1st point of x cordinate: \"))\n",
        "y1 = int(input('Enter the 1st ponint of y cordinate: '))\n",
        "\n",
        "x2 = int(input(\"Enter the 2nd point of x cordinate: \"))\n",
        "y2 = int(input('Enter the 2nd ponint of y cordinate: '))\n",
        "\n",
        "distance = math.sqrt((x2 - x1)**2 + (y2 - y1)**2)\n",
        "print(distance)\n"
      ],
      "metadata": {
        "colab": {
          "base_uri": "https://localhost:8080/"
        },
        "id": "suQSPQ5qBZS5",
        "outputId": "b044fa5a-bfd6-4bd1-8438-8a5f69a5ffd6"
      },
      "execution_count": 41,
      "outputs": [
        {
          "output_type": "stream",
          "name": "stdout",
          "text": [
            "Enter the 1st point of x cordinate: 2\n",
            "Enter the 1st ponint of y cordinate: 3\n",
            "Enter the 2nd point of x cordinate: 5\n",
            "Enter the 2nd ponint of y cordinate: 8\n",
            "5.830951894845301\n"
          ]
        }
      ]
    }
  ]
}