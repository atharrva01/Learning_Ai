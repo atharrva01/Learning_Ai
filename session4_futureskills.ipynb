{
  "nbformat": 4,
  "nbformat_minor": 0,
  "metadata": {
    "colab": {
      "provenance": [],
      "authorship_tag": "ABX9TyPyvRVSwYP6FcoPmEXdGTIc",
      "include_colab_link": true
    },
    "kernelspec": {
      "name": "python3",
      "display_name": "Python 3"
    },
    "language_info": {
      "name": "python"
    }
  },
  "cells": [
    {
      "cell_type": "markdown",
      "metadata": {
        "id": "view-in-github",
        "colab_type": "text"
      },
      "source": [
        "<a href=\"https://colab.research.google.com/github/atharrva01/Learning_Ai/blob/main/session4_futureskills.ipynb\" target=\"_parent\"><img src=\"https://colab.research.google.com/assets/colab-badge.svg\" alt=\"Open In Colab\"/></a>"
      ]
    },
    {
      "cell_type": "code",
      "execution_count": null,
      "metadata": {
        "colab": {
          "base_uri": "https://localhost:8080/"
        },
        "id": "WEGu-aYUJB37",
        "outputId": "e065ef76-691b-4b69-aa90-a43cb2e6fd8e"
      },
      "outputs": [
        {
          "output_type": "stream",
          "name": "stdout",
          "text": [
            "['Atharva', 'Borafe', '8999', 777, 879, 'A', 'Bo', '8999', 7, 79]\n"
          ]
        }
      ],
      "source": [
        "list1 = [\"Atharva\",\"Borafe\",\"8999\",777,879]\n",
        "list2 = [\"A\",\"Bo\",\"8999\",7,79]\n",
        "\n",
        "list1.extend(list2)\n",
        "print(list1)"
      ]
    },
    {
      "cell_type": "code",
      "source": [
        "listA = [\"abcd\" , \"soouth\" , \"borade\",\"hindi\"]\n",
        "\n",
        "def give_last_index(arr):\n",
        "  return arr[-1]\n",
        "\n",
        "print(sorted(listA,key=give_last_index))"
      ],
      "metadata": {
        "colab": {
          "base_uri": "https://localhost:8080/"
        },
        "id": "8YxGVgfeOFwg",
        "outputId": "a57f25df-56c6-499c-9134-94f8caeb4a57"
      },
      "execution_count": null,
      "outputs": [
        {
          "output_type": "stream",
          "name": "stdout",
          "text": [
            "['abcd', 'borade', 'soouth', 'hindi']\n"
          ]
        }
      ]
    },
    {
      "cell_type": "code",
      "source": [
        "set1 ={1,\"Atharva\",123,2,6,21,98}\n",
        "set1.add(\"Borade\")\n",
        "\n",
        "set2 = set()\n",
        "\n",
        "\n",
        "\n",
        "\n",
        "for i in range(1,23):\n",
        "  set2.add(i)\n",
        "\n",
        "universealset = set1.union(set2)\n",
        "\n",
        "# print(set1)\n",
        "# print(set2)\n",
        "\n",
        "set3 = set1 | set2\n",
        "set3 = set1.union(set2)\n",
        "\n",
        "\n",
        "set4 = set1.intersection(set2)\n",
        "# print(set4)\n",
        "\n",
        "print(universealset)\n",
        "\n",
        "set5 = set2.issubset(universealset)\n",
        "print(set5)"
      ],
      "metadata": {
        "colab": {
          "base_uri": "https://localhost:8080/"
        },
        "id": "Fs3r8Aujaf61",
        "outputId": "58c53a5b-5117-4096-ec14-7dfa1de29782"
      },
      "execution_count": 39,
      "outputs": [
        {
          "output_type": "stream",
          "name": "stdout",
          "text": [
            "{1, 2, 3, 4, 'Borade', 6, 5, 7, 8, 9, 10, 11, 12, 13, 14, 15, 16, 17, 18, 19, 21, 20, 22, 'Atharva', 98, 123}\n",
            "True\n"
          ]
        }
      ]
    },
    {
      "cell_type": "code",
      "source": [],
      "metadata": {
        "id": "xXHRI_JIcCik"
      },
      "execution_count": null,
      "outputs": []
    }
  ]
}