{
  "nbformat": 4,
  "nbformat_minor": 0,
  "metadata": {
    "colab": {
      "provenance": [],
      "authorship_tag": "ABX9TyPI3BeF73HSgBbq1G72Wpgr",
      "include_colab_link": true
    },
    "kernelspec": {
      "name": "python3",
      "display_name": "Python 3"
    },
    "language_info": {
      "name": "python"
    }
  },
  "cells": [
    {
      "cell_type": "markdown",
      "metadata": {
        "id": "view-in-github",
        "colab_type": "text"
      },
      "source": [
        "<a href=\"https://colab.research.google.com/github/atharrva01/Learning_Ai/blob/main/session12_futureskills.ipynb\" target=\"_parent\"><img src=\"https://colab.research.google.com/assets/colab-badge.svg\" alt=\"Open In Colab\"/></a>"
      ]
    },
    {
      "cell_type": "code",
      "execution_count": 6,
      "metadata": {
        "colab": {
          "base_uri": "https://localhost:8080/",
          "height": 198
        },
        "id": "RO20FoXuZ78-",
        "outputId": "0893c0d7-d1a9-46b9-ba7d-94cbdff91f5e"
      },
      "outputs": [
        {
          "output_type": "error",
          "ename": "KeyError",
          "evalue": "'c'",
          "traceback": [
            "\u001b[0;31m---------------------------------------------------------------------------\u001b[0m",
            "\u001b[0;31mKeyError\u001b[0m                                  Traceback (most recent call last)",
            "\u001b[0;32m/tmp/ipython-input-6-76067122.py\u001b[0m in \u001b[0;36m<cell line: 0>\u001b[0;34m()\u001b[0m\n\u001b[1;32m      6\u001b[0m }\n\u001b[1;32m      7\u001b[0m \u001b[0;34m\u001b[0m\u001b[0m\n\u001b[0;32m----> 8\u001b[0;31m \u001b[0mprint\u001b[0m\u001b[0;34m(\u001b[0m\u001b[0mdict1\u001b[0m\u001b[0;34m[\u001b[0m\u001b[0;34m\"c\"\u001b[0m\u001b[0;34m]\u001b[0m\u001b[0;34m)\u001b[0m\u001b[0;34m\u001b[0m\u001b[0;34m\u001b[0m\u001b[0m\n\u001b[0m\u001b[1;32m      9\u001b[0m \u001b[0;31m# print(dict1[\"a\"])\u001b[0m\u001b[0;34m\u001b[0m\u001b[0;34m\u001b[0m\u001b[0m\n",
            "\u001b[0;31mKeyError\u001b[0m: 'c'"
          ]
        }
      ],
      "source": [
        "\n",
        "dict1 = {\n",
        "    \"a\" : 3,\n",
        "    \"b\" : 5,\n",
        "}\n",
        "\n",
        "print(dict1[\"c\"])\n",
        "# print(dict1[\"a\"])"
      ]
    },
    {
      "cell_type": "code",
      "source": [
        "import collections as ci\n",
        "\n",
        "dict1 = ci.defaultdict(lambda : \"Key not availble in the given dictionary\")\n",
        "\n",
        "dict1[\"a\"] = 4\n",
        "\n",
        "print(dict1[\"c\"])\n",
        "print(dict1[\"a\"])\n"
      ],
      "metadata": {
        "colab": {
          "base_uri": "https://localhost:8080/"
        },
        "id": "CY7HINs3aYQP",
        "outputId": "124d2113-515a-4d90-956c-77d9726a5398"
      },
      "execution_count": 9,
      "outputs": [
        {
          "output_type": "stream",
          "name": "stdout",
          "text": [
            "Key not availble in the given dictionary\n",
            "4\n"
          ]
        }
      ]
    },
    {
      "cell_type": "code",
      "source": [
        "square = lambda x : x*x\n",
        "square(5)\n"
      ],
      "metadata": {
        "colab": {
          "base_uri": "https://localhost:8080/"
        },
        "id": "tySl5iMRa4UJ",
        "outputId": "48d2c78e-34d9-4cd5-edcc-e33c663215a5"
      },
      "execution_count": 14,
      "outputs": [
        {
          "output_type": "execute_result",
          "data": {
            "text/plain": [
              "25"
            ]
          },
          "metadata": {},
          "execution_count": 14
        }
      ]
    },
    {
      "cell_type": "code",
      "source": [
        "numbers = [9,6,53,12,11,3]\n",
        "\n",
        "list(map(lambda x: x**3,numbers))"
      ],
      "metadata": {
        "colab": {
          "base_uri": "https://localhost:8080/"
        },
        "id": "f0c8YDxCbZtn",
        "outputId": "30ef1a9f-d570-4751-9481-2f50e427fb62"
      },
      "execution_count": 19,
      "outputs": [
        {
          "output_type": "execute_result",
          "data": {
            "text/plain": [
              "[729, 216, 148877, 1728, 1331, 27]"
            ]
          },
          "metadata": {},
          "execution_count": 19
        }
      ]
    },
    {
      "cell_type": "code",
      "source": [
        "#filter function\n",
        "\n",
        "values = [74, 3, 28, 91, 62, 45, 12, 7, 80, 39,\n",
        "66, 25, 58, 83, 34, 99, 4, 13, 56, 17,\n",
        "88, 21, 36, 61, 2, 73, 10, 55, 96, 5,\n",
        "14, 93, 30, 41, 22, 77, 18, 67, 6, 35,\n",
        "48, 23, 64, 9, 26, 81, 8, 53, 50, 19\n",
        "]\n",
        "\n",
        "even_num_in_list = list(filter(lambda x: x % 2 == 0,values))\n",
        "odd_num_in_list = list(filter(lambda x: x % 2 == 1,values))\n",
        "\n",
        "print(\"Even no. in the list are: \" , even_num_in_list)\n",
        "print(\"There are total \",len(even_num_in_list),\" even no. in the list\")\n",
        "print(\"Odd no. in the list are: \", odd_num_in_list)\n",
        "print(\"There are total \",len(odd_num_in_list),\"odd no. in the list\")"
      ],
      "metadata": {
        "colab": {
          "base_uri": "https://localhost:8080/"
        },
        "id": "ZI2e_-RSca7s",
        "outputId": "77326e23-5318-47b0-b863-e74180a28c7f"
      },
      "execution_count": 26,
      "outputs": [
        {
          "output_type": "stream",
          "name": "stdout",
          "text": [
            "Even no. in the list are:  [74, 28, 62, 12, 80, 66, 58, 34, 4, 56, 88, 36, 2, 10, 96, 14, 30, 22, 18, 6, 48, 64, 26, 8, 50]\n",
            "There are total  25  even no. in the list\n",
            "Odd no. in the list are:  [3, 91, 45, 7, 39, 25, 83, 99, 13, 17, 21, 61, 73, 55, 5, 93, 41, 77, 67, 35, 23, 9, 81, 53, 19]\n",
            "There are total  25 odd no. in the list\n"
          ]
        }
      ]
    },
    {
      "cell_type": "code",
      "source": [
        "from functools import reduce\n",
        "\n",
        "values = [74, 3, 28, 91, 62, 45, 12, 7, 80, 39,\n",
        "66, 25, 58, 83, 34, 99, 4, 13, 56, 17,\n",
        "88, 21, 36, 61, 2, 73, 10, 55, 96, 5,\n",
        "14, 93, 30, 41, 22, 77, 18, 67, 6, 35,\n",
        "48, 23, 64, 9, 26, 81, 8, 53, 50, 19\n",
        "]\n",
        "\n",
        "sumofvalues = (reduce(lambda x,y : x*y ,values))\n",
        "print(sumofvalues)\n",
        "\n",
        "help(reduce)"
      ],
      "metadata": {
        "colab": {
          "base_uri": "https://localhost:8080/"
        },
        "id": "E_irFEwZex6L",
        "outputId": "0fbf4320-ef62-4b4f-8030-4eb229bbc2db"
      },
      "execution_count": 33,
      "outputs": [
        {
          "output_type": "stream",
          "name": "stdout",
          "text": [
            "31736679813894846797823384951281318833939541842700849336077516800000000000\n",
            "Help on built-in function reduce in module _functools:\n",
            "\n",
            "reduce(...)\n",
            "    reduce(function, iterable[, initial]) -> value\n",
            "    \n",
            "    Apply a function of two arguments cumulatively to the items of a sequence\n",
            "    or iterable, from left to right, so as to reduce the iterable to a single\n",
            "    value.  For example, reduce(lambda x, y: x+y, [1, 2, 3, 4, 5]) calculates\n",
            "    ((((1+2)+3)+4)+5).  If initial is present, it is placed before the items\n",
            "    of the iterable in the calculation, and serves as a default when the\n",
            "    iterable is empty.\n",
            "\n"
          ]
        }
      ]
    }
  ]
}