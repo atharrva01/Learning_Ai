{
  "nbformat": 4,
  "nbformat_minor": 0,
  "metadata": {
    "colab": {
      "provenance": [],
      "mount_file_id": "1dJ5jMFwoEatRknEdrr2nwcdIKOWinjhN",
      "authorship_tag": "ABX9TyMiiqoRxhiqCSds/nEGqHa3",
      "include_colab_link": true
    },
    "kernelspec": {
      "name": "python3",
      "display_name": "Python 3"
    },
    "language_info": {
      "name": "python"
    }
  },
  "cells": [
    {
      "cell_type": "markdown",
      "metadata": {
        "id": "view-in-github",
        "colab_type": "text"
      },
      "source": [
        "<a href=\"https://colab.research.google.com/github/atharrva01/Learning_Ai/blob/main/session14_future.ipynb\" target=\"_parent\"><img src=\"https://colab.research.google.com/assets/colab-badge.svg\" alt=\"Open In Colab\"/></a>"
      ]
    },
    {
      "cell_type": "code",
      "execution_count": 4,
      "metadata": {
        "id": "MvdFfqICHaon"
      },
      "outputs": [],
      "source": [
        "from google.colab import drive\n",
        "\n",
        "f = open(\"Atharva.txt\" , \"w\")\n",
        "\n",
        "content = '''\n",
        "Atharva JJKjkjk jdskaj\n",
        "kjdhjfyiwf\n",
        "kjabwdfkgiwEF\n",
        "KSDBGFIWFHUSG\n",
        "'''\n",
        "\n",
        "f.write(content)\n",
        "\n",
        "f.close()"
      ]
    },
    {
      "cell_type": "code",
      "source": [
        "with open(\"Atharva.txt\",\"r\") as files:\n",
        "\n",
        "  read = files.read()\n",
        "print(read)\n"
      ],
      "metadata": {
        "colab": {
          "base_uri": "https://localhost:8080/"
        },
        "id": "xhH6Y3OTP7Qt",
        "outputId": "23820597-fbbc-47a3-9350-7a874b2aa7a9"
      },
      "execution_count": 7,
      "outputs": [
        {
          "output_type": "stream",
          "name": "stdout",
          "text": [
            "\n",
            "Atharva JJKjkjk jdskaj\n",
            "kjdhjfyiwf\n",
            "kjabwdfkgiwEF\n",
            "KSDBGFIWFHUSG\n",
            "\n"
          ]
        }
      ]
    },
    {
      "cell_type": "code",
      "source": [
        "with open(\"Atharva.txt\" , \"a\") as ath:\n",
        "  add = 'Atharva lives in mumbai!'\n",
        "  ath.write(add)\n",
        "\n"
      ],
      "metadata": {
        "id": "PcIXAC0CQfTn"
      },
      "execution_count": 8,
      "outputs": []
    },
    {
      "cell_type": "code",
      "source": [
        "with open(\"Atharva.txt\" , \"r\") as fi:\n",
        "  read = fi.read()\n",
        "\n",
        "print(read)"
      ],
      "metadata": {
        "colab": {
          "base_uri": "https://localhost:8080/"
        },
        "id": "WNHSCj6zQpZ2",
        "outputId": "052a21fa-2156-41b7-b413-05b317b40f7b"
      },
      "execution_count": 10,
      "outputs": [
        {
          "output_type": "stream",
          "name": "stdout",
          "text": [
            "\n",
            "Atharva JJKjkjk jdskaj\n",
            "kjdhjfyiwf\n",
            "kjabwdfkgiwEF\n",
            "KSDBGFIWFHUSG\n",
            "Atharva lives in mumbai!\n"
          ]
        }
      ]
    },
    {
      "cell_type": "code",
      "source": [
        "age = int(input(\"Enter your age: \"))\n",
        "try:\n",
        "  if age >= 18:\n",
        "    print(\"You have access to the program\")\n",
        "  elif age < 0:\n",
        "    raise Exception(\"Enter the positive no. how could some one be less than 0 or 0\")\n",
        "  else:\n",
        "    raise Exception(\"Chotaa bacha hai be tu abhi padhai kr jakee\")\n",
        "except ValueError:\n",
        "  print(\"Enter the no. not str\")\n",
        "\n"
      ],
      "metadata": {
        "colab": {
          "base_uri": "https://localhost:8080/"
        },
        "id": "l9_tjT7pUbiP",
        "outputId": "a48368b5-8172-4d99-bdc6-8aed64c40bcd"
      },
      "execution_count": 19,
      "outputs": [
        {
          "output_type": "stream",
          "name": "stdout",
          "text": [
            "Enter your age: 20\n",
            "You have access to the program\n"
          ]
        }
      ]
    },
    {
      "cell_type": "code",
      "source": [],
      "metadata": {
        "id": "DG4L9Vk8UkeI"
      },
      "execution_count": null,
      "outputs": []
    }
  ]
}