{
  "nbformat": 4,
  "nbformat_minor": 0,
  "metadata": {
    "colab": {
      "provenance": [],
      "authorship_tag": "ABX9TyMOjaZrW3P8Cu3Jk+nwtZhq",
      "include_colab_link": true
    },
    "kernelspec": {
      "name": "python3",
      "display_name": "Python 3"
    },
    "language_info": {
      "name": "python"
    }
  },
  "cells": [
    {
      "cell_type": "markdown",
      "metadata": {
        "id": "view-in-github",
        "colab_type": "text"
      },
      "source": [
        "<a href=\"https://colab.research.google.com/github/atharrva01/Learning_Ai/blob/main/session5_futureskillsprime.ipynb\" target=\"_parent\"><img src=\"https://colab.research.google.com/assets/colab-badge.svg\" alt=\"Open In Colab\"/></a>"
      ]
    },
    {
      "cell_type": "code",
      "execution_count": 9,
      "metadata": {
        "colab": {
          "base_uri": "https://localhost:8080/"
        },
        "id": "qIZxhdgJrh7m",
        "outputId": "7a6bcc1b-e771-4af9-89b9-99d2b7a95dac"
      },
      "outputs": [
        {
          "output_type": "stream",
          "name": "stdout",
          "text": [
            "{1, 2, 3, 4, 5, 6, 7, 8, 9, 10, 11, 12, 13, 14, 15, 16, 17, 18, 19, 20, 21, 22, 98, 'Atharva', 'Borade', 123}\n",
            "True\n",
            "{'Atharva', 98, 123, 'Borade'}\n",
            "something is in common:  {9}\n"
          ]
        }
      ],
      "source": [
        "set1 ={1,\"Atharva\",123,2,6,21,98}\n",
        "set1.add(\"Borade\")\n",
        "\n",
        "set2 = set()\n",
        "\n",
        "\n",
        "\n",
        "\n",
        "for i in range(1,23):\n",
        "  set2.add(i)\n",
        "\n",
        "universealset = set1.union(set2)\n",
        "\n",
        "# print(set1)\n",
        "# print(set2)\n",
        "\n",
        "set3 = set1 | set2\n",
        "set3 = set1.union(set2)\n",
        "\n",
        "\n",
        "set4 = set1.intersection(set2)\n",
        "# print(set4)\n",
        "\n",
        "print(universealset)\n",
        "\n",
        "set5 = set2.issubset(universealset)\n",
        "print(set5)\n",
        "\n",
        "\n",
        "set7 = set1 - set2\n",
        "print(set7)\n",
        "\n",
        "\n",
        "\n",
        "num1 = {1,2,3,4,5,9}\n",
        "num2 = {6,7,8,9}\n",
        "\n",
        "if num1.isdisjoint(num2):\n",
        "  print(\"nothing is in common\")\n",
        "else:\n",
        "  print(\"something is in common: \",num1.intersection(num2))\n"
      ]
    },
    {
      "cell_type": "code",
      "source": [],
      "metadata": {
        "id": "Omf3Uwg9zlgQ"
      },
      "execution_count": null,
      "outputs": []
    },
    {
      "cell_type": "markdown",
      "source": [
        "learnt about varius dictories and syring methods and all"
      ],
      "metadata": {
        "id": "Q0Zi_T7cznAi"
      }
    },
    {
      "cell_type": "code",
      "source": [
        "dict1 = {\n",
        "    \"Name\" : \"Atharva\",\n",
        "    \"Age\" : 18,\n",
        "    \"Salary\" : 0,\n",
        "}\n",
        "\n",
        "print(dict1[\"Salary\"])\n",
        "\n",
        "del(dict1[\"Age\"])\n",
        "\n",
        "print(dict1)\n",
        "\n",
        "\n",
        "dict1.clear()\n",
        "print(dict1)"
      ],
      "metadata": {
        "colab": {
          "base_uri": "https://localhost:8080/"
        },
        "id": "EFTKXkjbzsA1",
        "outputId": "3d21d766-c2fb-478f-8030-367b98b71d46"
      },
      "execution_count": 17,
      "outputs": [
        {
          "output_type": "stream",
          "name": "stdout",
          "text": [
            "0\n",
            "{'Name': 'Atharva', 'Salary': 0}\n",
            "{}\n"
          ]
        }
      ]
    }
  ]
}