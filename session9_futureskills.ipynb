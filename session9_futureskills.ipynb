{
  "nbformat": 4,
  "nbformat_minor": 0,
  "metadata": {
    "colab": {
      "provenance": [],
      "authorship_tag": "ABX9TyOCnn3X49hGA09mQVJOncVR",
      "include_colab_link": true
    },
    "kernelspec": {
      "name": "python3",
      "display_name": "Python 3"
    },
    "language_info": {
      "name": "python"
    }
  },
  "cells": [
    {
      "cell_type": "markdown",
      "metadata": {
        "id": "view-in-github",
        "colab_type": "text"
      },
      "source": [
        "<a href=\"https://colab.research.google.com/github/atharrva01/Learning_Ai/blob/main/session9_futureskills.ipynb\" target=\"_parent\"><img src=\"https://colab.research.google.com/assets/colab-badge.svg\" alt=\"Open In Colab\"/></a>"
      ]
    },
    {
      "cell_type": "code",
      "execution_count": null,
      "metadata": {
        "colab": {
          "base_uri": "https://localhost:8080/"
        },
        "id": "ovEJOU8AszTD",
        "outputId": "d2c31eca-fb30-4579-c3cb-a8599c4c7e0a"
      },
      "outputs": [
        {
          "output_type": "stream",
          "name": "stdout",
          "text": [
            "kids here, system crashed\n"
          ]
        }
      ],
      "source": [
        "numbers = [18, 24, 29, 17, 22, 20, 27, 25, 16, 19, 30, 21, 26, 23, 28, 20, 17, 29, 18, 22]\n",
        "\n",
        "for i in numbers:\n",
        "  if i <= 18:\n",
        "    print(\"kids here, system crashed\")\n",
        "    break\n",
        "else:\n",
        "  print(\"no kid program can run smoothly\")"
      ]
    },
    {
      "cell_type": "code",
      "source": [
        "people = [\"Atharva\"  , \"Sahil\" , \"Darshan\" , \"Shubham\" , \"Sushant\"]\n",
        "\n",
        "list(enumerate(people))\n",
        "\n",
        "for i,j in enumerate(people):\n",
        "  print('at index {0} value is {1}'.format(i,j))"
      ],
      "metadata": {
        "colab": {
          "base_uri": "https://localhost:8080/"
        },
        "id": "9JDUhn_NIBD7",
        "outputId": "fab386cc-17c1-44fa-891e-40c66077717b"
      },
      "execution_count": null,
      "outputs": [
        {
          "output_type": "stream",
          "name": "stdout",
          "text": [
            "at index 0 value is Atharva\n",
            "at index 1 value is Sahil\n",
            "at index 2 value is Darshan\n",
            "at index 3 value is Shubham\n",
            "at index 4 value is Sushant\n"
          ]
        }
      ]
    },
    {
      "cell_type": "code",
      "source": [
        "i = 1\n",
        "n = int(input(\"Enter the no.: \"))\n",
        "while i < 11:\n",
        "  print(f\"{n} X {i} = {n*i}\")\n",
        "  i += 1"
      ],
      "metadata": {
        "colab": {
          "base_uri": "https://localhost:8080/"
        },
        "id": "Qxqwr9OOONLO",
        "outputId": "4a5adb4a-2483-4b8f-8b0d-5c88acc08451"
      },
      "execution_count": null,
      "outputs": [
        {
          "output_type": "stream",
          "name": "stdout",
          "text": [
            "Enter the no.: 9\n",
            "9 X 1 = 9\n",
            "9 X 2 = 18\n",
            "9 X 3 = 27\n",
            "9 X 4 = 36\n",
            "9 X 5 = 45\n",
            "9 X 6 = 54\n",
            "9 X 7 = 63\n",
            "9 X 8 = 72\n",
            "9 X 9 = 81\n",
            "9 X 10 = 90\n"
          ]
        }
      ]
    },
    {
      "cell_type": "code",
      "source": [
        "# #nested loops\n",
        "# matrix = [\n",
        "#     [1, 2, 3],\n",
        "#     [4, 5, 6],\n",
        "#     [7, 8, 9]\n",
        "# ]\n",
        "\n",
        "\n",
        "# for row in matrix:\n",
        "#     for item in row:\n",
        "#         print(item, end=' ')\n",
        "#     print()\n",
        "\n",
        "\n",
        "for i in range(2):\n",
        "    for j in range(3):\n",
        "        print(i, j)"
      ],
      "metadata": {
        "colab": {
          "base_uri": "https://localhost:8080/"
        },
        "id": "cl_4TcKiOlwy",
        "outputId": "55475495-e51c-4b0b-d45c-fecf99363b73"
      },
      "execution_count": null,
      "outputs": [
        {
          "output_type": "stream",
          "name": "stdout",
          "text": [
            "0 0\n",
            "0 1\n",
            "0 2\n",
            "1 0\n",
            "1 1\n",
            "1 2\n"
          ]
        }
      ]
    },
    {
      "cell_type": "code",
      "source": [
        "matrix1 = [\n",
        "    [19,20],\n",
        "    [33,12]\n",
        "]\n",
        "\n",
        "for row in matrix1:\n",
        "  for element in row:\n",
        "    print(element,end = \" \")\n",
        "  print()"
      ],
      "metadata": {
        "colab": {
          "base_uri": "https://localhost:8080/"
        },
        "id": "iUbIRqVzTu_7",
        "outputId": "817bf1eb-9a83-4a66-e7fd-62384325d03c"
      },
      "execution_count": null,
      "outputs": [
        {
          "output_type": "stream",
          "name": "stdout",
          "text": [
            "19 20 \n",
            "33 12 \n"
          ]
        }
      ]
    },
    {
      "cell_type": "code",
      "source": [
        "for i in range(0,5):\n",
        "  for j in range(0,6):\n",
        "    print(\"#\",end = \" \")\n",
        "  print()"
      ],
      "metadata": {
        "colab": {
          "base_uri": "https://localhost:8080/"
        },
        "id": "I1BhsW72UpII",
        "outputId": "10d6ca76-79b9-4775-a9de-8fdb0474a033"
      },
      "execution_count": null,
      "outputs": [
        {
          "output_type": "stream",
          "name": "stdout",
          "text": [
            "# # # # # # \n",
            "# # # # # # \n",
            "# # # # # # \n",
            "# # # # # # \n",
            "# # # # # # \n"
          ]
        }
      ]
    },
    {
      "cell_type": "code",
      "source": [],
      "metadata": {
        "id": "bTUO2fF7bGTn"
      },
      "execution_count": null,
      "outputs": []
    }
  ]
}