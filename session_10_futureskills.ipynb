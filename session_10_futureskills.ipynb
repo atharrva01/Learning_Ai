{
  "nbformat": 4,
  "nbformat_minor": 0,
  "metadata": {
    "colab": {
      "provenance": [],
      "authorship_tag": "ABX9TyOSCVWJk3an2T9LAhKzQDeF",
      "include_colab_link": true
    },
    "kernelspec": {
      "name": "python3",
      "display_name": "Python 3"
    },
    "language_info": {
      "name": "python"
    }
  },
  "cells": [
    {
      "cell_type": "markdown",
      "metadata": {
        "id": "view-in-github",
        "colab_type": "text"
      },
      "source": [
        "<a href=\"https://colab.research.google.com/github/atharrva01/Learning_Ai/blob/main/session_10_futureskills.ipynb\" target=\"_parent\"><img src=\"https://colab.research.google.com/assets/colab-badge.svg\" alt=\"Open In Colab\"/></a>"
      ]
    },
    {
      "cell_type": "code",
      "execution_count": 11,
      "metadata": {
        "colab": {
          "base_uri": "https://localhost:8080/"
        },
        "id": "9IGVElHlbRjZ",
        "outputId": "8701c8a9-b79f-44f0-bbcf-bed12f1705b0"
      },
      "outputs": [
        {
          "output_type": "stream",
          "name": "stdout",
          "text": [
            "Atharva\n",
            "19\n",
            "okk\n",
            "Data type is:  <class 'dict'>\n",
            "firstname is atharva\n",
            "lastname is borade\n",
            "age is 18\n"
          ]
        }
      ],
      "source": [
        "def say(para , time):\n",
        "  return para * time\n",
        "\n",
        "# say(\"hello \" , 9)\n",
        "# args\n",
        "def random(*argv):\n",
        "    for arguments in argv:\n",
        "      print(arguments)\n",
        "\n",
        "\n",
        "random(\"Atharva\" ,19,\"okk\")\n",
        "\n",
        "\n",
        "#kwargs\n",
        "\n",
        "def intro(**data):\n",
        "    print(\"Data type is: \",type(data))\n",
        "\n",
        "    for key,value in data.items():\n",
        "      print(\"{} is {}\".format(key,value))\n",
        "\n",
        "\n",
        "intro(firstname = \"atharva\" , lastname = 'borade' , age = 18)\n",
        "\n"
      ]
    },
    {
      "cell_type": "code",
      "source": [
        "def sum(*numb):\n",
        "  count = 0\n",
        "  for i in numb:\n",
        "    count += i\n",
        "  return count\n",
        "\n",
        "\n",
        "\n",
        "sum(12,9,9,1,9999)\n",
        "\n"
      ],
      "metadata": {
        "colab": {
          "base_uri": "https://localhost:8080/"
        },
        "id": "5jnPx0YK4IDB",
        "outputId": "98397916-cf23-4552-d3cd-885398c65c9f"
      },
      "execution_count": 16,
      "outputs": [
        {
          "output_type": "execute_result",
          "data": {
            "text/plain": [
              "10030"
            ]
          },
          "metadata": {},
          "execution_count": 16
        }
      ]
    },
    {
      "cell_type": "code",
      "source": [
        "# Print a 4x4 square of @\n",
        "\n",
        "for i in range(0,4):\n",
        "  for j in range(0,4):\n",
        "    print(\"@\",end = \" \")\n",
        "  print(\"\\n\")"
      ],
      "metadata": {
        "colab": {
          "base_uri": "https://localhost:8080/"
        },
        "id": "_b3aVs0n62Mr",
        "outputId": "46696196-9166-40de-cfdf-24abc93fe671"
      },
      "execution_count": 23,
      "outputs": [
        {
          "output_type": "stream",
          "name": "stdout",
          "text": [
            "@ @ @ @ \n",
            "\n",
            "@ @ @ @ \n",
            "\n",
            "@ @ @ @ \n",
            "\n",
            "@ @ @ @ \n",
            "\n"
          ]
        }
      ]
    },
    {
      "cell_type": "code",
      "source": [
        "n = 8\n",
        "k = n + 1\n",
        "\n",
        "for i in range(0,n):\n",
        "  for j in range(0,k):\n",
        "    print(\" \",end = \"\")\n",
        "  k -= 1\n",
        "  for j in range(0,i+1):\n",
        "    print(\"$\",end=\" \")\n",
        "  print(\"\\r\")"
      ],
      "metadata": {
        "colab": {
          "base_uri": "https://localhost:8080/"
        },
        "id": "JrD5fVcw7f7w",
        "outputId": "5ab69f68-2f33-4312-a63f-51d896b82a69"
      },
      "execution_count": 34,
      "outputs": [
        {
          "output_type": "stream",
          "name": "stdout",
          "text": [
            "         $ \r\n",
            "        $ $ \r\n",
            "       $ $ $ \r\n",
            "      $ $ $ $ \r\n",
            "     $ $ $ $ $ \r\n",
            "    $ $ $ $ $ $ \r\n",
            "   $ $ $ $ $ $ $ \r\n",
            "  $ $ $ $ $ $ $ $ \r\n"
          ]
        }
      ]
    },
    {
      "cell_type": "code",
      "source": [
        "# Print row numbers like this:\n",
        "\n",
        "# 1 1 1\n",
        "# 2 2 2\n",
        "# 3 3 3\n",
        "\n",
        "for i in range(1,4):\n",
        "  for j in range(1,4):\n",
        "    print(j, \" \",end=\"\")\n",
        "  print(\"\\n\")"
      ],
      "metadata": {
        "colab": {
          "base_uri": "https://localhost:8080/"
        },
        "id": "jHju2ORx8zjz",
        "outputId": "aec4a121-c396-434d-9063-0ae5a7be9b4d"
      },
      "execution_count": 39,
      "outputs": [
        {
          "output_type": "stream",
          "name": "stdout",
          "text": [
            "1  2  3  \n",
            "\n",
            "1  2  3  \n",
            "\n",
            "1  2  3  \n",
            "\n"
          ]
        }
      ]
    },
    {
      "cell_type": "code",
      "source": [
        "# Print this triangle of *\n",
        "n = 4\n",
        "k = n + 1\n",
        "\n",
        "for i in range(0,n):\n",
        "  for j in range(0,1+i):\n",
        "    print(\"@\" , end=' ')\n",
        "  print(\"\\n\")\n",
        "\n",
        ""
      ],
      "metadata": {
        "colab": {
          "base_uri": "https://localhost:8080/"
        },
        "id": "1fFcVFqI9hGC",
        "outputId": "03b019bd-bbbe-4ae1-cea9-714f6896f072"
      },
      "execution_count": 66,
      "outputs": [
        {
          "output_type": "stream",
          "name": "stdout",
          "text": [
            "@ \n",
            "\n",
            "@ @ \n",
            "\n",
            "@ @ @ \n",
            "\n",
            "@ @ @ @ \n",
            "\n"
          ]
        }
      ]
    },
    {
      "cell_type": "code",
      "source": [
        "# Print numbers like this:\n",
        "n = 4\n",
        "k = n + 1\n",
        "\n",
        "for i in range(0,n):\n",
        "  for j in range(0,1+i):\n",
        "    print(j , end=' ')\n",
        "  print(\"\\n\")\n",
        "\n",
        ""
      ],
      "metadata": {
        "colab": {
          "base_uri": "https://localhost:8080/"
        },
        "id": "fBG0RXIaB9UO",
        "outputId": "42bd2751-cbb6-4c33-c67d-e8a1a1528619"
      },
      "execution_count": 67,
      "outputs": [
        {
          "output_type": "stream",
          "name": "stdout",
          "text": [
            "0 \n",
            "\n",
            "0 1 \n",
            "\n",
            "0 1 2 \n",
            "\n",
            "0 1 2 3 \n",
            "\n"
          ]
        }
      ]
    },
    {
      "cell_type": "code",
      "source": [
        "# Q6. Print reverse numbers:\n",
        "\n",
        "n = 4\n",
        "k = n + 1\n",
        "\n",
        "for i in range(0,6):\n",
        "  for j in range(0,i+1):\n",
        "    print(j , end=' ')\n",
        "  print(\"\\n\")\n",
        "\n",
        ""
      ],
      "metadata": {
        "colab": {
          "base_uri": "https://localhost:8080/"
        },
        "id": "LzPDJSyNCMCd",
        "outputId": "a999e103-18fa-4720-d975-c7a7db9663ac"
      },
      "execution_count": 84,
      "outputs": [
        {
          "output_type": "stream",
          "name": "stdout",
          "text": [
            "0 \n",
            "\n",
            "0 1 \n",
            "\n",
            "0 1 2 \n",
            "\n",
            "0 1 2 3 \n",
            "\n",
            "0 1 2 3 4 \n",
            "\n",
            "0 1 2 3 4 5 \n",
            "\n"
          ]
        }
      ]
    }
  ]
}