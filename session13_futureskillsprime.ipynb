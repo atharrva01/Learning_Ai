{
  "nbformat": 4,
  "nbformat_minor": 0,
  "metadata": {
    "colab": {
      "provenance": [],
      "authorship_tag": "ABX9TyMYeYkqn56maybYJdX2kAdz",
      "include_colab_link": true
    },
    "kernelspec": {
      "name": "python3",
      "display_name": "Python 3"
    },
    "language_info": {
      "name": "python"
    }
  },
  "cells": [
    {
      "cell_type": "markdown",
      "metadata": {
        "id": "view-in-github",
        "colab_type": "text"
      },
      "source": [
        "<a href=\"https://colab.research.google.com/github/atharrva01/Learning_Ai/blob/main/session13_futureskillsprime.ipynb\" target=\"_parent\"><img src=\"https://colab.research.google.com/assets/colab-badge.svg\" alt=\"Open In Colab\"/></a>"
      ]
    },
    {
      "cell_type": "code",
      "execution_count": null,
      "metadata": {
        "colab": {
          "base_uri": "https://localhost:8080/",
          "height": 252
        },
        "id": "siPiuzlagtE9",
        "outputId": "77b605f5-115f-488e-a651-c4ebd11f8391"
      },
      "outputs": [
        {
          "output_type": "stream",
          "name": "stdout",
          "text": [
            "atharv\n",
            "vinay\n",
            "vedika\n",
            "vedant\n"
          ]
        },
        {
          "output_type": "error",
          "ename": "StopIteration",
          "evalue": "",
          "traceback": [
            "\u001b[0;31m---------------------------------------------------------------------------\u001b[0m",
            "\u001b[0;31mStopIteration\u001b[0m                             Traceback (most recent call last)",
            "\u001b[0;32m/tmp/ipython-input-8-1295519562.py\u001b[0m in \u001b[0;36m<cell line: 0>\u001b[0;34m()\u001b[0m\n\u001b[1;32m      8\u001b[0m \u001b[0mprint\u001b[0m\u001b[0;34m(\u001b[0m\u001b[0mnext\u001b[0m\u001b[0;34m(\u001b[0m\u001b[0mlist3\u001b[0m\u001b[0;34m)\u001b[0m\u001b[0;34m)\u001b[0m\u001b[0;34m\u001b[0m\u001b[0;34m\u001b[0m\u001b[0m\n\u001b[1;32m      9\u001b[0m \u001b[0mprint\u001b[0m\u001b[0;34m(\u001b[0m\u001b[0mnext\u001b[0m\u001b[0;34m(\u001b[0m\u001b[0mlist3\u001b[0m\u001b[0;34m)\u001b[0m\u001b[0;34m)\u001b[0m\u001b[0;34m\u001b[0m\u001b[0;34m\u001b[0m\u001b[0m\n\u001b[0;32m---> 10\u001b[0;31m \u001b[0mprint\u001b[0m\u001b[0;34m(\u001b[0m\u001b[0mnext\u001b[0m\u001b[0;34m(\u001b[0m\u001b[0mlist3\u001b[0m\u001b[0;34m)\u001b[0m\u001b[0;34m)\u001b[0m\u001b[0;34m\u001b[0m\u001b[0;34m\u001b[0m\u001b[0m\n\u001b[0m",
            "\u001b[0;31mStopIteration\u001b[0m: "
          ]
        }
      ],
      "source": [
        "list1 = [\"atharv\" , \"vinay\" , \"vedika\" , \"vedant\"]\n",
        "\n",
        "list2 = list1.__iter__()\n",
        "\n",
        "list3 = iter(list1)\n",
        "print(next(list3))\n",
        "print(next(list3))\n",
        "print(next(list3))\n",
        "print(next(list3))\n"
      ]
    },
    {
      "cell_type": "code",
      "source": [
        "import sys\n",
        "list1 = [\"atharv\" , \"vinay\" , \"vedika\" , \"vedant\"]\n",
        "\n",
        "total_var = sys.getsizeof(list1)\n",
        "print(total_var)\n",
        "\n",
        "list2 = iter(list1)\n",
        "size_list2 = sys.getsizeof(list2)\n",
        "print(size_list2)"
      ],
      "metadata": {
        "colab": {
          "base_uri": "https://localhost:8080/"
        },
        "id": "_naZ15VhjBy7",
        "outputId": "32e4ce64-5f01-4e27-a938-dc8c47476050"
      },
      "execution_count": null,
      "outputs": [
        {
          "output_type": "stream",
          "name": "stdout",
          "text": [
            "88\n",
            "48\n"
          ]
        }
      ]
    },
    {
      "cell_type": "code",
      "source": [
        "listnum = \"Atharva Borade\"\n",
        "listnum_1 = iter(listnum)\n",
        "print(listnum_1)\n",
        "\n",
        "while True:\n",
        "  try :\n",
        "    item = next(listnum_1)\n",
        "    print(item)\n",
        "  except StopIteration:\n",
        "    break"
      ],
      "metadata": {
        "colab": {
          "base_uri": "https://localhost:8080/"
        },
        "id": "DJrwpIJszZgy",
        "outputId": "435291e3-d4b3-4469-e8dc-eec9d7bdada6"
      },
      "execution_count": null,
      "outputs": [
        {
          "output_type": "stream",
          "name": "stdout",
          "text": [
            "<str_ascii_iterator object at 0x7aa318833340>\n",
            "A\n",
            "t\n",
            "h\n",
            "a\n",
            "r\n",
            "v\n",
            "a\n",
            " \n",
            "B\n",
            "o\n",
            "r\n",
            "a\n",
            "d\n",
            "e\n"
          ]
        }
      ]
    },
    {
      "cell_type": "code",
      "source": [
        "#fibonacci sequence\n",
        "\n",
        "def fibb(limit):\n",
        "  a,b = 0,1\n",
        "\n",
        "  while a < limit:\n",
        "    yield a\n",
        "    a,b = b,a + b\n",
        "x = fibb(22)\n",
        "while True:\n",
        "  try:\n",
        "    print(next(x))\n",
        "  except StopIteration:\n",
        "    break\n",
        "\n"
      ],
      "metadata": {
        "colab": {
          "base_uri": "https://localhost:8080/"
        },
        "id": "E_xHq7j0CNLe",
        "outputId": "517ffe3c-cc08-410c-be3d-bf97885409ab"
      },
      "execution_count": 31,
      "outputs": [
        {
          "output_type": "stream",
          "name": "stdout",
          "text": [
            "0\n",
            "1\n",
            "1\n",
            "2\n",
            "3\n",
            "5\n",
            "8\n",
            "13\n",
            "21\n"
          ]
        }
      ]
    }
  ]
}