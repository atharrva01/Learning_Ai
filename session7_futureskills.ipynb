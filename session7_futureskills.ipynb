{
  "nbformat": 4,
  "nbformat_minor": 0,
  "metadata": {
    "colab": {
      "provenance": [],
      "authorship_tag": "ABX9TyMiWlskakakyh+RMLdCN81f",
      "include_colab_link": true
    },
    "kernelspec": {
      "name": "python3",
      "display_name": "Python 3"
    },
    "language_info": {
      "name": "python"
    }
  },
  "cells": [
    {
      "cell_type": "markdown",
      "metadata": {
        "id": "view-in-github",
        "colab_type": "text"
      },
      "source": [
        "<a href=\"https://colab.research.google.com/github/atharrva01/Learning_Ai/blob/main/session7_futureskills.ipynb\" target=\"_parent\"><img src=\"https://colab.research.google.com/assets/colab-badge.svg\" alt=\"Open In Colab\"/></a>"
      ]
    },
    {
      "cell_type": "code",
      "execution_count": 4,
      "metadata": {
        "id": "wSzWmayPHpIf",
        "colab": {
          "base_uri": "https://localhost:8080/"
        },
        "outputId": "f6c512c7-5d00-44f6-d90f-9f35813498a9"
      },
      "outputs": [
        {
          "output_type": "stream",
          "name": "stdout",
          "text": [
            "Are you male? no\n",
            "Are you tall? yes\n",
            "You are tall , but ladki hai tu!\n"
          ]
        }
      ],
      "source": [
        "#condtional statements\n",
        "\n",
        "is_male = str(input(\"Are you male? \")).lower()\n",
        "is_tall = str(input(\"Are you tall? \")).lower()\n",
        "\n",
        "if is_male == \"yes\" and is_tall == \"yes\":\n",
        "  print('You are male and tall.')\n",
        "elif is_male == \"yes\" and is_tall == \"no\":\n",
        "  print(\"You are male but not tall.\")\n",
        "elif is_male == \"no\" and is_tall == \"yes\":\n",
        "  print(\"You are tall , but ladki hai tu!\")\n",
        "else:\n",
        "  print(\"pagal aurat, yaha kya kr rahi hai!\")\n",
        "\n"
      ]
    },
    {
      "cell_type": "code",
      "source": [
        "score = int(input(\"Enter your Exam score: \"))\n",
        "\n",
        "if score >= 50 and score <= 100:\n",
        "  print('You scored good,btw')\n",
        "  money = int(input(\"Enter your expected price money: \"))\n",
        "  if money >= 1000 and score >= 90:\n",
        "    print(\"So small, you should think much big, you will GET 2L hahaha\")\n",
        "  elif money >= 500 and score < 90:\n",
        "    print(\"abe salee marks to leke aaa fir paisa mang!\")\n",
        "  elif money < 500 and score < 80:\n",
        "    print(\"Sharam aati hai kuch , paisa mangte hue?????\")\n",
        "  elif money > 500 and score > 90:\n",
        "    print(\"Bhai tujhe 2lakh milenge\")\n",
        "\n",
        "  else:\n",
        "    print(\"???????????\")\n",
        "else:\n",
        "  print(\"Enter the value less than 100\")"
      ],
      "metadata": {
        "colab": {
          "base_uri": "https://localhost:8080/"
        },
        "id": "sHp7rs4bJw-Q",
        "outputId": "39132cf5-2fd5-4a29-bf0b-75648d4d9b76"
      },
      "execution_count": 19,
      "outputs": [
        {
          "output_type": "stream",
          "name": "stdout",
          "text": [
            "Enter your Exam score: 20\n",
            "Enter the value less than 100\n"
          ]
        }
      ]
    },
    {
      "cell_type": "code",
      "source": [
        "names = [\"Atharva\" , \"Mansi\" , \"Shubham\"]\n",
        "\n",
        "if \"rahul\" in names:\n",
        "  print(\"Rahul milgaya ab usse maroooooooooo\")\n",
        "else:\n",
        "  print(\"Salla bhag gaya\")"
      ],
      "metadata": {
        "colab": {
          "base_uri": "https://localhost:8080/"
        },
        "id": "RtQFo4UqO1kS",
        "outputId": "b2249ada-c2c3-4e88-c044-3d373e765f36"
      },
      "execution_count": 22,
      "outputs": [
        {
          "output_type": "stream",
          "name": "stdout",
          "text": [
            "Salla bhag gaya\n"
          ]
        }
      ]
    }
  ]
}