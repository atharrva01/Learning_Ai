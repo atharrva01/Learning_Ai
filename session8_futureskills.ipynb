{
  "nbformat": 4,
  "nbformat_minor": 0,
  "metadata": {
    "colab": {
      "provenance": [],
      "authorship_tag": "ABX9TyNUWU/FlTXmI6icT8rHBVjB",
      "include_colab_link": true
    },
    "kernelspec": {
      "name": "python3",
      "display_name": "Python 3"
    },
    "language_info": {
      "name": "python"
    }
  },
  "cells": [
    {
      "cell_type": "markdown",
      "metadata": {
        "id": "view-in-github",
        "colab_type": "text"
      },
      "source": [
        "<a href=\"https://colab.research.google.com/github/atharrva01/Learning_Ai/blob/main/session8_futureskills.ipynb\" target=\"_parent\"><img src=\"https://colab.research.google.com/assets/colab-badge.svg\" alt=\"Open In Colab\"/></a>"
      ]
    },
    {
      "cell_type": "code",
      "execution_count": 7,
      "metadata": {
        "colab": {
          "base_uri": "https://localhost:8080/"
        },
        "id": "LjLJEvjBp2Rs",
        "outputId": "90f0b19f-eb36-4d6c-c2a8-e8045c3eb65e"
      },
      "outputs": [
        {
          "output_type": "stream",
          "name": "stdout",
          "text": [
            "[0, 3, 6]\n",
            "0\n",
            "3\n",
            "6\n"
          ]
        }
      ],
      "source": [
        "a = list(range(0,9,3))\n",
        "print(a)\n",
        "\n",
        "for i in a:\n",
        "  print(i)"
      ]
    },
    {
      "cell_type": "code",
      "source": [
        "even = list(range(0,51,2))\n",
        "\n",
        "for num in even:\n",
        "  print(num)"
      ],
      "metadata": {
        "colab": {
          "base_uri": "https://localhost:8080/"
        },
        "id": "km2RNB_2wWE7",
        "outputId": "55e88d85-6e0e-4e5a-9a7a-7e7c9ad769c5"
      },
      "execution_count": 13,
      "outputs": [
        {
          "output_type": "stream",
          "name": "stdout",
          "text": [
            "0\n",
            "2\n",
            "4\n",
            "6\n",
            "8\n",
            "10\n",
            "12\n",
            "14\n",
            "16\n",
            "18\n",
            "20\n",
            "22\n",
            "24\n",
            "26\n",
            "28\n",
            "30\n",
            "32\n",
            "34\n",
            "36\n",
            "38\n",
            "40\n",
            "42\n",
            "44\n",
            "46\n",
            "48\n",
            "50\n"
          ]
        }
      ]
    },
    {
      "cell_type": "code",
      "source": [
        "even_num = list(range(0,51,2))\n",
        "\n",
        "sum = 0\n",
        "print(sum)\n",
        "\n",
        "for num in even_num:\n",
        "  sum += num\n",
        "print(sum)\n",
        "\n",
        "\n",
        "odd_num = []\n",
        "print(odd_num)\n",
        "\n",
        "for i in range(0,51):\n",
        "  if ((i % 2) == 1):\n",
        "    odd_num.append(i)\n",
        "\n",
        "print(odd_num)\n",
        "\n",
        "sum_odd_num = 0\n",
        "print(sum_odd_num)\n",
        "\n",
        "for val in odd_num:\n",
        "  sum_odd_num += val\n",
        "\n",
        "print(\"Sum of all the odd nuumbers from 0-50 is \", sum_odd_num)\n"
      ],
      "metadata": {
        "colab": {
          "base_uri": "https://localhost:8080/"
        },
        "id": "6XV7e_06xPQk",
        "outputId": "2bf40315-4013-48df-e0d1-aa2b4a62d1b0"
      },
      "execution_count": 17,
      "outputs": [
        {
          "output_type": "stream",
          "name": "stdout",
          "text": [
            "0\n",
            "650\n",
            "[]\n",
            "[1, 3, 5, 7, 9, 11, 13, 15, 17, 19, 21, 23, 25, 27, 29, 31, 33, 35, 37, 39, 41, 43, 45, 47, 49]\n",
            "0\n",
            "Sum of all the odd nuumbers from 0-50 is  625\n"
          ]
        }
      ]
    },
    {
      "cell_type": "code",
      "source": [
        "list1 = [2,7,9,23,56,23,111,1]\n",
        "# print(list1)\n",
        "list2 = []\n",
        "\n",
        "for val in list1:\n",
        "  val += 3\n",
        "  # print(val)\n",
        "  list2.append(val)\n",
        "\n",
        "print(list1)\n",
        "print(list2)\n",
        "\n",
        "\n"
      ],
      "metadata": {
        "colab": {
          "base_uri": "https://localhost:8080/"
        },
        "id": "_9zK14GQyTSq",
        "outputId": "3a187eda-4ce6-48c6-a6c8-7af50b9ebfc8"
      },
      "execution_count": 30,
      "outputs": [
        {
          "output_type": "stream",
          "name": "stdout",
          "text": [
            "[2, 7, 9, 23, 56, 23, 111, 1]\n",
            "[5, 10, 12, 26, 59, 26, 114, 4]\n"
          ]
        }
      ]
    },
    {
      "cell_type": "code",
      "source": [
        "marks = [22,56,22,10,98,76,56]\n",
        "marks_div = [i // 3 for i in marks if i > 50 ]\n",
        "print(marks)\n",
        "print(marks_div)"
      ],
      "metadata": {
        "colab": {
          "base_uri": "https://localhost:8080/"
        },
        "id": "L5zRqlUr1jpr",
        "outputId": "233255e9-dff5-4bc5-a97c-39c028e315d5"
      },
      "execution_count": 34,
      "outputs": [
        {
          "output_type": "stream",
          "name": "stdout",
          "text": [
            "[22, 56, 22, 10, 98, 76, 56]\n",
            "[18, 32, 25, 18]\n"
          ]
        }
      ]
    },
    {
      "cell_type": "code",
      "source": [
        "# num = int(input(\"Enter the no. whose factorial you want to calculate: \"))\n",
        "\n",
        "n = int(input(\"Enter the no. whose factorial you want to calculate: \"))\n",
        "all_less_nos = []\n",
        "\n",
        "for i in range(1,n+1):\n",
        "  all_less_nos.append(i)\n",
        "\n",
        "\n",
        "print(all_less_nos)\n",
        "\n",
        "factorial = 1\n",
        "\n",
        "for val in all_less_nos:\n",
        "  factorial *= val\n",
        "\n",
        "\n",
        "print(factorial)\n",
        "\n",
        "\n"
      ],
      "metadata": {
        "colab": {
          "base_uri": "https://localhost:8080/"
        },
        "id": "pTAKIirz17h2",
        "outputId": "7b872f43-6758-4e3b-85d7-09c4f94b9a74"
      },
      "execution_count": 2,
      "outputs": [
        {
          "output_type": "stream",
          "name": "stdout",
          "text": [
            "Enter the no. whose factorial you want to calculate: 12\n",
            "[1, 2, 3, 4, 5, 6, 7, 8, 9, 10, 11, 12]\n",
            "479001600\n"
          ]
        }
      ]
    },
    {
      "cell_type": "code",
      "source": [
        "for i in range(1,999):\n",
        "  print(i)\n",
        "  if i == 7:\n",
        "    print(\"loop breaked\")\n",
        "    break\n",
        "\n",
        "\n"
      ],
      "metadata": {
        "colab": {
          "base_uri": "https://localhost:8080/"
        },
        "id": "xteDfcZlUpjG",
        "outputId": "0a57395b-9fe5-4bcc-c5ee-9356e0b39634"
      },
      "execution_count": 30,
      "outputs": [
        {
          "output_type": "stream",
          "name": "stdout",
          "text": [
            "1\n",
            "2\n",
            "3\n",
            "4\n",
            "5\n",
            "6\n",
            "7\n",
            "loop breaked\n"
          ]
        }
      ]
    },
    {
      "cell_type": "code",
      "source": [],
      "metadata": {
        "id": "wSzoeKwxu1DT"
      },
      "execution_count": null,
      "outputs": []
    }
  ]
}